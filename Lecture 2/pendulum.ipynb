{
 "cells": [
  {
   "cell_type": "code",
   "execution_count": 26,
   "id": "7438b978",
   "metadata": {},
   "outputs": [
    {
     "name": "stderr",
     "output_type": "stream",
     "text": [
      "\u001b[32m\u001b[1m  Activating\u001b[22m\u001b[39m environment at `~/lecture-notebooks/Lecture 2/Project.toml`\n"
     ]
    }
   ],
   "source": [
    "import Pkg; Pkg.activate(@__DIR__); Pkg.instantiate()\n",
    "\n",
    "# todo add StaticArrays, PyPlot"
   ]
  },
  {
   "cell_type": "code",
   "execution_count": 27,
   "id": "eaec848b",
   "metadata": {},
   "outputs": [
    {
     "name": "stderr",
     "output_type": "stream",
     "text": [
      "┌ Info: Installing matplotlib via the Conda matplotlib package...\n",
      "└ @ PyCall /Users/dnoursi/.julia/packages/PyCall/BD546/src/PyCall.jl:711\n",
      "┌ Info: Running `conda install -y matplotlib` in root environment\n",
      "└ @ Conda /Users/dnoursi/.julia/packages/Conda/sNGum/src/Conda.jl:128\n"
     ]
    },
    {
     "name": "stdout",
     "output_type": "stream",
     "text": [
      "Collecting package metadata (current_repodata.json): ...working... done\n",
      "Solving environment: ...working... done\n",
      "\n",
      "## Package Plan ##\n",
      "\n",
      "  environment location: /Users/dnoursi/.julia/conda/3\n",
      "\n",
      "  added / updated specs:\n",
      "    - matplotlib\n",
      "\n",
      "\n",
      "The following packages will be downloaded:\n",
      "\n",
      "    package                    |            build\n",
      "    ---------------------------|-----------------\n",
      "    brotli-1.0.9               |       hb1e8313_2         398 KB\n",
      "    cycler-0.10.0              |   py39hecd8cb5_0          16 KB\n",
      "    fonttools-4.25.0           |     pyhd3eb1b0_0         632 KB\n",
      "    freetype-2.10.4            |       ha233b18_0         564 KB\n",
      "    jpeg-9b                    |       he5867d9_2         201 KB\n",
      "    kiwisolver-1.3.1           |   py39h23ab428_0          53 KB\n",
      "    lcms2-2.12                 |       hf1fd2bf_0         284 KB\n",
      "    libpng-1.6.37              |       ha441bb4_0         262 KB\n",
      "    libtiff-4.2.0              |       h87d7836_0         462 KB\n",
      "    libwebp-base-1.2.0         |       h9ed2024_0         389 KB\n",
      "    lz4-c-1.9.3                |       h23ab428_1         140 KB\n",
      "    matplotlib-3.4.2           |   py39hecd8cb5_0          26 KB\n",
      "    matplotlib-base-3.4.2      |   py39h8b3ea08_0         5.6 MB\n",
      "    munkres-1.1.4              |             py_0          13 KB\n",
      "    olefile-0.46               |     pyhd3eb1b0_0          34 KB\n",
      "    openjpeg-2.4.0             |       h66ea3da_0         301 KB\n",
      "    pillow-8.3.1               |   py39ha4cf6ea_0         602 KB\n",
      "    pyparsing-2.4.7            |     pyhd3eb1b0_0          59 KB\n",
      "    python-dateutil-2.8.2      |     pyhd3eb1b0_0         233 KB\n",
      "    tornado-6.1                |   py39h9ed2024_0         587 KB\n",
      "    zstd-1.4.9                 |       h322a384_0         476 KB\n",
      "    ------------------------------------------------------------\n",
      "                                           Total:        11.2 MB\n",
      "\n",
      "The following NEW packages will be INSTALLED:\n",
      "\n",
      "  brotli             pkgs/main/osx-64::brotli-1.0.9-hb1e8313_2\n",
      "  cycler             pkgs/main/osx-64::cycler-0.10.0-py39hecd8cb5_0\n",
      "  fonttools          pkgs/main/noarch::fonttools-4.25.0-pyhd3eb1b0_0\n",
      "  freetype           pkgs/main/osx-64::freetype-2.10.4-ha233b18_0\n",
      "  jpeg               pkgs/main/osx-64::jpeg-9b-he5867d9_2\n",
      "  kiwisolver         pkgs/main/osx-64::kiwisolver-1.3.1-py39h23ab428_0\n",
      "  lcms2              pkgs/main/osx-64::lcms2-2.12-hf1fd2bf_0\n",
      "  libpng             pkgs/main/osx-64::libpng-1.6.37-ha441bb4_0\n",
      "  libtiff            pkgs/main/osx-64::libtiff-4.2.0-h87d7836_0\n",
      "  libwebp-base       pkgs/main/osx-64::libwebp-base-1.2.0-h9ed2024_0\n",
      "  lz4-c              pkgs/main/osx-64::lz4-c-1.9.3-h23ab428_1\n",
      "  matplotlib         pkgs/main/osx-64::matplotlib-3.4.2-py39hecd8cb5_0\n",
      "  matplotlib-base    pkgs/main/osx-64::matplotlib-base-3.4.2-py39h8b3ea08_0\n",
      "  munkres            pkgs/main/noarch::munkres-1.1.4-py_0\n",
      "  olefile            pkgs/main/noarch::olefile-0.46-pyhd3eb1b0_0\n",
      "  openjpeg           pkgs/main/osx-64::openjpeg-2.4.0-h66ea3da_0\n",
      "  pillow             pkgs/main/osx-64::pillow-8.3.1-py39ha4cf6ea_0\n",
      "  pyparsing          pkgs/main/noarch::pyparsing-2.4.7-pyhd3eb1b0_0\n",
      "  python-dateutil    pkgs/main/noarch::python-dateutil-2.8.2-pyhd3eb1b0_0\n",
      "  tornado            pkgs/main/osx-64::tornado-6.1-py39h9ed2024_0\n",
      "  zstd               pkgs/main/osx-64::zstd-1.4.9-h322a384_0\n",
      "\n",
      "\n",
      "\n",
      "Downloading and Extracting Packages\n",
      "fonttools-4.25.0     | 632 KB    | #################################### | 100% \n",
      "cycler-0.10.0        | 16 KB     | #################################### | 100% \n",
      "lz4-c-1.9.3          | 140 KB    | #################################### | 100% \n",
      "matplotlib-3.4.2     | 26 KB     | #################################### | 100% \n",
      "lcms2-2.12           | 284 KB    | #################################### | 100% \n",
      "pyparsing-2.4.7      | 59 KB     | #################################### | 100% \n",
      "kiwisolver-1.3.1     | 53 KB     | #################################### | 100% \n",
      "pillow-8.3.1         | 602 KB    | #################################### | 100% \n",
      "munkres-1.1.4        | 13 KB     | #################################### | 100% \n",
      "libwebp-base-1.2.0   | 389 KB    | #################################### | 100% \n",
      "olefile-0.46         | 34 KB     | #################################### | 100% \n",
      "libpng-1.6.37        | 262 KB    | #################################### | 100% \n",
      "brotli-1.0.9         | 398 KB    | #################################### | 100% \n",
      "matplotlib-base-3.4. | 5.6 MB    | #################################### | 100% \n",
      "libtiff-4.2.0        | 462 KB    | #################################### | 100% \n",
      "openjpeg-2.4.0       | 301 KB    | #################################### | 100% \n",
      "zstd-1.4.9           | 476 KB    | #################################### | 100% \n",
      "tornado-6.1          | 587 KB    | #################################### | 100% \n",
      "jpeg-9b              | 201 KB    | #################################### | 100% \n",
      "python-dateutil-2.8. | 233 KB    | #################################### | 100% \n",
      "freetype-2.10.4      | 564 KB    | #################################### | 100% \n",
      "Preparing transaction: ...working... done\n",
      "Verifying transaction: ...working... done\n",
      "Executing transaction: ...working... done\n"
     ]
    },
    {
     "name": "stderr",
     "output_type": "stream",
     "text": [
      "┌ Info: Installing pyqt package to avoid buggy tkagg backend.\n",
      "└ @ PyPlot /Users/dnoursi/.julia/packages/PyPlot/XHEG0/src/init.jl:118\n",
      "┌ Info: Installing PyQt5 via the Conda pyqt package...\n",
      "└ @ PyCall /Users/dnoursi/.julia/packages/PyCall/BD546/src/PyCall.jl:711\n",
      "┌ Info: Running `conda install -y pyqt` in root environment\n",
      "└ @ Conda /Users/dnoursi/.julia/packages/Conda/sNGum/src/Conda.jl:128\n"
     ]
    },
    {
     "name": "stdout",
     "output_type": "stream",
     "text": [
      "Collecting package metadata (current_repodata.json): ...working... done\n",
      "Solving environment: ...working... done\n",
      "\n",
      "## Package Plan ##\n",
      "\n",
      "  environment location: /Users/dnoursi/.julia/conda/3\n",
      "\n",
      "  added / updated specs:\n",
      "    - pyqt\n",
      "\n",
      "\n",
      "The following packages will be downloaded:\n",
      "\n",
      "    package                    |            build\n",
      "    ---------------------------|-----------------\n",
      "    icu-58.2                   |       h0a44026_3        10.1 MB\n",
      "    pyqt-5.9.2                 |   py39h23ab428_6         3.7 MB\n",
      "    qt-5.9.7                   |       h468cd18_1        62.0 MB\n",
      "    sip-4.19.13                |   py39h23ab428_0         243 KB\n",
      "    ------------------------------------------------------------\n",
      "                                           Total:        76.1 MB\n",
      "\n",
      "The following NEW packages will be INSTALLED:\n",
      "\n",
      "  icu                pkgs/main/osx-64::icu-58.2-h0a44026_3\n",
      "  pyqt               pkgs/main/osx-64::pyqt-5.9.2-py39h23ab428_6\n",
      "  qt                 pkgs/main/osx-64::qt-5.9.7-h468cd18_1\n",
      "  sip                pkgs/main/osx-64::sip-4.19.13-py39h23ab428_0\n",
      "\n",
      "\n",
      "\n",
      "Downloading and Extracting Packages\n",
      "sip-4.19.13          | 243 KB    | #################################### | 100% \n",
      "pyqt-5.9.2           | 3.7 MB    | #################################### | 100% \n",
      "icu-58.2             | 10.1 MB   | #################################### | 100% \n",
      "qt-5.9.7             | 62.0 MB   | #################################### | 100% \n",
      "Preparing transaction: ...working... done\n",
      "Verifying transaction: ...working... done\n",
      "Executing transaction: ...working... done\n"
     ]
    }
   ],
   "source": [
    "using LinearAlgebra\n",
    "using PyPlot"
   ]
  },
  {
   "cell_type": "code",
   "execution_count": 28,
   "id": "99b6635d",
   "metadata": {},
   "outputs": [
    {
     "data": {
      "text/plain": [
       "f (generic function with 1 method)"
      ]
     },
     "execution_count": 28,
     "metadata": {},
     "output_type": "execute_result"
    }
   ],
   "source": [
    "ℓ = 1.0\n",
    "m = 1.0\n",
    "g = 9.81 \n",
    "function f(x) :: Vector{Float64}\n",
    "    #pendulum dynamics\n",
    "    \n",
    "    θ = x[1]\n",
    "    θ̇ = x[2]\n",
    "    \n",
    "    ẋ = [θ̇; -(g/ℓ)*sin(θ)]\n",
    "end "
   ]
  },
  {
   "cell_type": "code",
   "execution_count": 29,
   "id": "529d295e",
   "metadata": {},
   "outputs": [
    {
     "data": {
      "text/plain": [
       "euler_step (generic function with 1 method)"
      ]
     },
     "execution_count": 29,
     "metadata": {},
     "output_type": "execute_result"
    }
   ],
   "source": [
    "function euler_step(xk) :: Vector{Float64}\n",
    "    xn = xk + h*f(xk)\n",
    "end"
   ]
  },
  {
   "cell_type": "code",
   "execution_count": 30,
   "id": "533e2eda",
   "metadata": {},
   "outputs": [
    {
     "data": {
      "text/plain": [
       "simulate! (generic function with 1 method)"
      ]
     },
     "execution_count": 30,
     "metadata": {},
     "output_type": "execute_result"
    }
   ],
   "source": [
    "function simulate!(xtraj, N)\n",
    "    for k = 1:(N-1)\n",
    "        xtraj[:,k+1] .= euler_step(xtraj[:,k])\n",
    "    end\n",
    "end"
   ]
  },
  {
   "cell_type": "code",
   "execution_count": 57,
   "id": "78c55ebc",
   "metadata": {},
   "outputs": [
    {
     "name": "stdout",
     "output_type": "stream",
     "text": [
      "Float64Float64Int64Vector{Float64}"
     ]
    }
   ],
   "source": [
    "Tf = 1.0\n",
    "h = 0.01 #20 Hz\n",
    "N = Int(floor(Tf./h + 1))\n",
    "thist = h.*Array(0:(N-1));\n",
    "\n",
    "print(typeof(Tf),typeof(h),typeof(N),typeof(thist))\n",
    "\n"
   ]
  },
  {
   "cell_type": "code",
   "execution_count": 62,
   "id": "7d1f831a",
   "metadata": {},
   "outputs": [
    {
     "name": "stdout",
     "output_type": "stream",
     "text": [
      "Vector{Float64}Matrix{Float64}Vector{Float64}[0.8726646259971648 0.0 0.0 0.0 0.0 0.0 0.0 0.0 0.0 0.0 0.0 0.0 0.0 0.0 0.0 0.0 0.0 0.0 0.0 0.0 0.0 0.0 0.0 0.0 0.0 0.0 0.0 0.0 0.0 0.0 0.0 0.0 0.0 0.0 0.0 0.0 0.0 0.0 0.0 0.0 0.0 0.0 0.0 0.0 0.0 0.0 0.0 0.0 0.0 0.0 0.0 0.0 0.0 0.0 0.0 0.0 0.0 0.0 0.0 0.0 0.0 0.0 0.0 0.0 0.0 0.0 0.0 0.0 0.0 0.0 0.0 0.0 0.0 0.0 0.0 0.0 0.0 0.0 0.0 0.0 0.0 0.0 0.0 0.0 0.0 0.0 0.0 0.0 0.0 0.0 0.0 0.0 0.0 0.0 0.0 0.0 0.0 0.0 0.0 0.0 0.0; 0.0 0.0 0.0 0.0 0.0 0.0 0.0 0.0 0.0 0.0 0.0 0.0 0.0 0.0 0.0 0.0 0.0 0.0 0.0 0.0 0.0 0.0 0.0 0.0 0.0 0.0 0.0 0.0 0.0 0.0 0.0 0.0 0.0 0.0 0.0 0.0 0.0 0.0 0.0 0.0 0.0 0.0 0.0 0.0 0.0 0.0 0.0 0.0 0.0 0.0 0.0 0.0 0.0 0.0 0.0 0.0 0.0 0.0 0.0 0.0 0.0 0.0 0.0 0.0 0.0 0.0 0.0 0.0 0.0 0.0 0.0 0.0 0.0 0.0 0.0 0.0 0.0 0.0 0.0 0.0 0.0 0.0 0.0 0.0 0.0 0.0 0.0 0.0 0.0 0.0 0.0 0.0 0.0 0.0 0.0 0.0 0.0 0.0 0.0 0.0 0.0]101[0.8726646259971648, 0.0]"
     ]
    }
   ],
   "source": [
    "x0 = [50*(pi/180); 0.0]\n",
    "xtraj = zeros(2,N)\n",
    "xtraj[:,1] = x0;\n",
    "\n",
    "print(typeof(x0),typeof(xtraj),typeof(xtraj[:,1]))\n",
    "\n",
    "print(xtraj, N)\n",
    "print(xtraj[:, 1])"
   ]
  },
  {
   "cell_type": "code",
   "execution_count": 59,
   "id": "9cd13c10",
   "metadata": {},
   "outputs": [
    {
     "name": "stdout",
     "output_type": "stream",
     "text": [
      "[0.8726646259971648 0.8726646259971648 0.871913136398465 0.8704101572010656 0.8681561624874057 0.8651521016944737 0.8613994018534558 0.8568999707827177 0.8516562012112435 0.8456709758009866 0.8389476730279289 0.8314901738730088 0.8233028692654831 0.8143906682127653 0.8047590065423473 0.794413856173115 0.7833617348252363 0.7716097160699009 0.7591654396125636 0.7460371216960666 0.7322335655031558 0.7177641714315391 0.702638947108862 0.6868685170098623 0.6704641315336429 0.6534376753955364 0.6358016751855536 0.6175693059440035 0.5987543966046415 0.5793714341567511 0.5594355663799742 0.53896260300956 0.5179690151950702 0.49647193312251137 0.4744891416784016 0.45203907404443106 0.42914080312313996 0.4058140307083808 0.38207907432919497 0.357956851712032 0.3334688628238578 0.3086371694774907 0.2834843725003025 0.2580335864880211 0.23230841218655313 0.20633290656625786 0.18013155067468328 0.15372921537514259 0.12715112509937035 0.10042281976256237 0.07357011500807292 0.046619060966635775 0.019595899730915533 -0.00747297823976913 -0.03456107855780677 -0.061641847952424694 -0.08868871967819891 -0.11567515903908906 -0.14257470877838083 -0.1693610340858864 -0.1960079669774461 -0.22248954980813468 -0.24878007768950752 -0.27485413959258165 -0.30068665793185667 -0.32625292644132753 -0.35152864617087953 -0.37648995945042213 -0.40111348168932315 -0.42537633089985694 -0.44925615485517045 -0.4727311558144066 -0.4957801127698015 -0.5183824011925151 -0.5405180102753944 -0.5621675576915596 -0.5833123019074282 -0.6039341521073553 -0.6240156758043061 -0.6435401042267586 -0.6624913355862517 -0.6808539363425763 -0.698613140594512 -0.7157548477332198 -0.7322656185029182 -0.7481326696193311 -0.763343867100656 -0.7778877184685117 -0.7917533639775917 -0.8049305670326488 -0.8174097039500733 -0.8291817532188194 -0.8402382844118746 -0.8505714468949848 -0.8601739584740303 -0.8690390941164302 -0.8771606748752964 -0.8845330571378985 -0.8911511223123907 -0.8970102670587873 -0.902106394161924; 0.0 -0.07514895986997175 -0.1502979197399435 -0.22539947136599192 -0.3004060792932083 -0.37526998410179135 -0.4499431070737991 -0.5243769571474157 -0.5985225410256972 -0.6723302773057661 -0.7457499154920091 -0.8187304607525657 -0.8912201052717852 -0.9631661670417938 -1.0345150369232303 -1.1052121347878692 -1.1752018755335434 -1.244427645733737 -1.3128317916496908 -1.380355619291088 -1.446939407161663 -1.5125224322677184 -1.577043009899975 -1.6404385476219352 -1.7026456138106527 -1.7636000209982807 -1.823236924155012 -1.8814909339362043 -1.938296244789044 -1.9935867776776914 -2.0472963370414177 -2.0993587814489807 -2.1497082072558853 -2.1982791444109773 -2.2450067633970545 -2.28982709212911 -2.332677241475916 -2.3734956379185848 -2.412222261716296 -2.448798888817423 -2.48316933463671 -2.5152796977188205 -2.545078601228142 -2.5725174301467972 -2.5975505620295283 -2.620135589157456 -2.64023352995407 -2.657809027577223 -2.672830533680797 -2.6852704754489447 -2.6951054041437144 -2.7023161235720243 -2.7068877970684664 -2.7088100318037633 -2.708076939461793 -2.7046871725774215 -2.698643936089015 -2.6899549739291757 -2.678632530750558 -2.664693289155969 -2.648158283068857 -2.6290527881372836 -2.6074061903074095 -2.5832518339274997 -2.556626850947083 -2.5275719729552004 -2.496131327954257 -2.462352223890104 -2.426284921053377 -2.3879823955313513 -2.3475000959236176 -2.30489569553949 -2.260228842271359 -2.2135609082879273 -2.164954741616519 -2.114474421586866 -2.0621850199927074 -2.008152369695073 -1.9524428422452555 -1.8951231359493173 -1.8362600756324514 -1.775920425193563 -1.7141707138707873 -1.6510770769698317 -1.586705111641293 -1.52111974813249 -1.4543851367855587 -1.3865645509080018 -1.317720305505709 -1.2479136917424536 -1.1772049268746034 -1.105653119305531 -1.0333162483110059 -0.9602511579045523 -0.886513564239988 -0.812158075886619 -0.7372382262602185 -0.6618065174492151 -0.5859144746396611 -0.5096127103136674 -0.43295099737322595]"
     ]
    }
   ],
   "source": [
    "simulate!(xtraj, N)\n",
    "print(xtraj)"
   ]
  },
  {
   "cell_type": "code",
   "execution_count": 52,
   "id": "c5a6be11",
   "metadata": {},
   "outputs": [
    {
     "name": "stdout",
     "output_type": "stream",
     "text": [
      "VisualizerUnionAll"
     ]
    },
    {
     "name": "stderr",
     "output_type": "stream",
     "text": [
      "┌ Info: MeshCat server started. You can open the visualizer by visiting the following URL in your browser:\n",
      "│ http://127.0.0.1:8708\n",
      "└ @ MeshCat /Users/dnoursi/.julia/packages/MeshCat/GlCMx/src/visualizer.jl:73\n"
     ]
    },
    {
     "data": {
      "text/html": [
       "    <div style=\"height: 500px; width: 100%; overflow-x: auto; overflow-y: hidden; resize: both\">\n",
       "    <iframe src=\"http://127.0.0.1:8708\" style=\"width: 100%; height: 100%; border: none\"></iframe>\n",
       "    </div>\n"
      ],
      "text/plain": [
       "MeshCat.DisplayedVisualizer(MeshCat.CoreVisualizer(MeshCat.SceneTrees.SceneNode(nothing, nothing, Dict{String, Vector{UInt8}}(), nothing, Dict{String, MeshCat.SceneTrees.SceneNode}(\"meshcat\" => MeshCat.SceneTrees.SceneNode(nothing, nothing, Dict{String, Vector{UInt8}}(), nothing, Dict{String, MeshCat.SceneTrees.SceneNode}(\"robot\" => MeshCat.SceneTrees.SceneNode(nothing, nothing, Dict{String, Vector{UInt8}}(), nothing, Dict{String, MeshCat.SceneTrees.SceneNode}(\"geom\" => MeshCat.SceneTrees.SceneNode(nothing, nothing, Dict{String, Vector{UInt8}}(), nothing, Dict{String, MeshCat.SceneTrees.SceneNode}(\"rod\" => MeshCat.SceneTrees.SceneNode(UInt8[0x83, 0xa6, 0x6f, 0x62, 0x6a, 0x65, 0x63, 0x74, 0x84, 0xaa  …  0x74, 0x2f, 0x67, 0x65, 0x6f, 0x6d, 0x2f, 0x72, 0x6f, 0x64], nothing, Dict{String, Vector{UInt8}}(), nothing, Dict{String, MeshCat.SceneTrees.SceneNode}()), \"hinge\" => MeshCat.SceneTrees.SceneNode(UInt8[0x83, 0xa6, 0x6f, 0x62, 0x6a, 0x65, 0x63, 0x74, 0x84, 0xaa  …  0x67, 0x65, 0x6f, 0x6d, 0x2f, 0x68, 0x69, 0x6e, 0x67, 0x65], nothing, Dict{String, Vector{UInt8}}(), nothing, Dict{String, MeshCat.SceneTrees.SceneNode}()), \"mass\" => MeshCat.SceneTrees.SceneNode(UInt8[0x83, 0xa6, 0x6f, 0x62, 0x6a, 0x65, 0x63, 0x74, 0x84, 0xaa  …  0x2f, 0x67, 0x65, 0x6f, 0x6d, 0x2f, 0x6d, 0x61, 0x73, 0x73], nothing, Dict{String, Vector{UInt8}}(), nothing, Dict{String, MeshCat.SceneTrees.SceneNode}()))))))))), Set{Any}(), ip\"127.0.0.1\", 8708))"
      ]
     },
     "execution_count": 52,
     "metadata": {},
     "output_type": "execute_result"
    }
   ],
   "source": [
    "using TrajOptPlots\n",
    "using MeshCat\n",
    "using StaticArrays\n",
    "using RobotZoo\n",
    "\n",
    "vis = Visualizer()\n",
    "TrajOptPlots.set_mesh!(vis, RobotZoo.Pendulum())\n",
    "\n",
    "print(typeof(vis), typeof(RobotZoo.Pendulum))\n",
    "\n",
    "\n",
    "render(vis)\n",
    "\n"
   ]
  },
  {
   "cell_type": "code",
   "execution_count": 53,
   "id": "25d7b9b2",
   "metadata": {},
   "outputs": [
    {
     "name": "stdout",
     "output_type": "stream",
     "text": [
      "Vector{SVector{2, Float64}}Vector{Float64}Float64"
     ]
    }
   ],
   "source": [
    "X1 = [SVector{2}(x) for x in eachcol(xtraj)];\n",
    "\n",
    "print(typeof(X1), typeof(thist), typeof(thist[end]))\n",
    "visualize!(vis, RobotZoo.Pendulum(), thist[end], X1)"
   ]
  },
  {
   "cell_type": "code",
   "execution_count": 37,
   "id": "556888d0",
   "metadata": {},
   "outputs": [
    {
     "data": {
      "image/png": "[encoded data removed]",
      "text/plain": [
       "Figure(PyObject <Figure size 640x480 with 1 Axes>)"
      ]
     },
     "metadata": {},
     "output_type": "display_data"
    },
    {
     "data": {
      "text/plain": [
       "PyObject Text(24.0, 0.5, 'θ (rad)')"
      ]
     },
     "execution_count": 37,
     "metadata": {},
     "output_type": "execute_result"
    }
   ],
   "source": [
    "plot(thist,xtraj[1,:])\n",
    "xlabel(\"Time (sec)\")\n",
    "ylabel(\"θ (rad)\")"
   ]
  },
  {
   "cell_type": "code",
   "execution_count": 54,
   "id": "883f5f3b",
   "metadata": {},
   "outputs": [
    {
     "data": {
      "image/png": "[encoded data removed]",
      "text/plain": [
       "Figure(PyObject <Figure size 640x480 with 1 Axes>)"
      ]
     },
     "metadata": {},
     "output_type": "display_data"
    },
    {
     "name": "stdout",
     "output_type": "stream",
     "text": [
      "Vector{Float64}"
     ]
    },
    {
     "data": {
      "text/plain": [
       "PyObject Text(24.000000000000007, 0.5, 'Total Energy')"
      ]
     },
     "execution_count": 54,
     "metadata": {},
     "output_type": "execute_result"
    }
   ],
   "source": [
    "#Let's plot the total energy of the system\n",
    "Ehist = 0.5*m*ℓ^2*(xtraj[2,:].^2) .+ m*g*ℓ*(1.0.-cos.(xtraj[1,:]))\n",
    "\n",
    "print(typeof(Ehist))\n",
    "plot(thist,Ehist)\n",
    "xlabel(\"Time (sec)\")\n",
    "ylabel(\"Total Energy\")"
   ]
  },
  {
   "cell_type": "code",
   "execution_count": null,
   "id": "3b633d2a",
   "metadata": {},
   "outputs": [],
   "source": []
  }
 ],
 "metadata": {
  "kernelspec": {
   "display_name": "Julia 1.6.2",
   "language": "julia",
   "name": "julia-1.6"
  },
  "language_info": {
   "file_extension": ".jl",
   "mimetype": "application/julia",
   "name": "julia",
   "version": "1.6.2"
  }
 },
 "nbformat": 4,
 "nbformat_minor": 5
}
