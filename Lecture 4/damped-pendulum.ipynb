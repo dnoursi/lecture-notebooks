{
 "cells": [
  {
   "cell_type": "code",
   "execution_count": 39,
   "id": "7438b978",
   "metadata": {},
   "outputs": [],
   "source": [
    "import Pkg; Pkg.activate(@__DIR__); Pkg.instantiate()"
   ]
  },
  {
   "cell_type": "code",
   "execution_count": 40,
   "id": "eaec848b",
   "metadata": {},
   "outputs": [],
   "source": [
    "using LinearAlgebra\n",
    "using PyPlot\n",
    "using ForwardDiff"
   ]
  },
  {
   "cell_type": "code",
   "execution_count": 75,
   "id": "99b6635d",
   "metadata": {},
   "outputs": [
    {
     "data": {
      "text/plain": [
       "f (generic function with 1 method)"
      ]
     },
     "execution_count": 75,
     "metadata": {},
     "output_type": "execute_result"
    }
   ],
   "source": [
    "ℓ = 1.0\n",
    "m = 1.0\n",
    "c = 30.0\n",
    "g = 9.81\n",
    "\n",
    "function f(x)\n",
    "    #pendulum dynamics\n",
    "    \n",
    "    θ = x[1]\n",
    "    θ̇ = x[2]\n",
    "    \n",
    "    ẋ = [θ̇; -(g/ℓ)*sin(θ) - (c/m)*θ̇]\n",
    "end"
   ]
  },
  {
   "cell_type": "code",
   "execution_count": 76,
   "id": "529d295e",
   "metadata": {},
   "outputs": [
    {
     "data": {
      "text/plain": [
       "explicit_midpoint_step (generic function with 1 method)"
      ]
     },
     "execution_count": 76,
     "metadata": {},
     "output_type": "execute_result"
    }
   ],
   "source": [
    "function explicit_midpoint_step(xk)\n",
    "    xm = xk + 0.5*h*f(xk)\n",
    "    xn = xk + h*f(xm)\n",
    "end"
   ]
  },
  {
   "cell_type": "code",
   "execution_count": 77,
   "id": "c221344a",
   "metadata": {},
   "outputs": [
    {
     "data": {
      "text/plain": [
       "rk4_step (generic function with 1 method)"
      ]
     },
     "execution_count": 77,
     "metadata": {},
     "output_type": "execute_result"
    }
   ],
   "source": [
    "function rk4_step(xk)\n",
    "    f1 = f(xk)\n",
    "    f2 = f(xk + 0.5*h*f1)\n",
    "    f3 = f(xk + 0.5*h*f2)\n",
    "    f4 = f(xk + h*f3)\n",
    "    \n",
    "    xn = xk + (h/6.0).*(f1 + 2*f2 + 2*f3 + f4)\n",
    "end"
   ]
  },
  {
   "cell_type": "code",
   "execution_count": 78,
   "id": "fa2a2588",
   "metadata": {},
   "outputs": [
    {
     "data": {
      "text/plain": [
       "implicit_euler_step (generic function with 1 method)"
      ]
     },
     "execution_count": 78,
     "metadata": {},
     "output_type": "execute_result"
    }
   ],
   "source": [
    "function implicit_euler_step(xk)\n",
    "    xn = xk\n",
    "    r = xn - xk - h*f(xn)\n",
    "    while maximum(abs.(r)) > 1e-12\n",
    "        R = ForwardDiff.jacobian(x -> x-xk-h*f(x), xn)\n",
    "        Δxn = -R\\r\n",
    "        xn += Δxn\n",
    "        r = xn - xk - h*f(xn)\n",
    "    end\n",
    "    \n",
    "    return xn\n",
    "end"
   ]
  },
  {
   "cell_type": "code",
   "execution_count": 79,
   "id": "fa802858",
   "metadata": {},
   "outputs": [
    {
     "data": {
      "text/plain": [
       "implicit_midpoint_step (generic function with 1 method)"
      ]
     },
     "execution_count": 79,
     "metadata": {},
     "output_type": "execute_result"
    }
   ],
   "source": [
    "function implicit_midpoint_step(xk)\n",
    "    xn = xk\n",
    "    r = xn - xk - h*f(0.5*xk + 0.5*xn)\n",
    "    while maximum(abs.(r)) > 1e-12\n",
    "        R = ForwardDiff.jacobian(x -> x-xk-h*f(0.5*xk + 0.5*x), xn)\n",
    "        Δxn = -R\\r\n",
    "        xn += Δxn\n",
    "        r = xn - xk - h*f(0.5*xk + 0.5*xn)\n",
    "    end\n",
    "    \n",
    "    return xn\n",
    "end"
   ]
  },
  {
   "cell_type": "code",
   "execution_count": 80,
   "id": "533e2eda",
   "metadata": {},
   "outputs": [
    {
     "data": {
      "text/plain": [
       "simulate_explicit_mid! (generic function with 1 method)"
      ]
     },
     "execution_count": 80,
     "metadata": {},
     "output_type": "execute_result"
    }
   ],
   "source": [
    "function simulate_explicit_mid!(xtraj, N)\n",
    "    for k = 1:(N-1)\n",
    "        xtraj[:,k+1] .= explicit_midpoint_step(xtraj[:,k])\n",
    "    end\n",
    "end"
   ]
  },
  {
   "cell_type": "code",
   "execution_count": 81,
   "id": "d29c2467",
   "metadata": {},
   "outputs": [
    {
     "data": {
      "text/plain": [
       "simulate_rk4! (generic function with 1 method)"
      ]
     },
     "execution_count": 81,
     "metadata": {},
     "output_type": "execute_result"
    }
   ],
   "source": [
    "function simulate_rk4!(xtraj, N)\n",
    "    for k = 1:(N-1)\n",
    "        xtraj[:,k+1] .= rk4_step(xtraj[:,k])\n",
    "    end\n",
    "end"
   ]
  },
  {
   "cell_type": "code",
   "execution_count": 82,
   "id": "6ada4755",
   "metadata": {},
   "outputs": [
    {
     "data": {
      "text/plain": [
       "simulate_implicit_euler! (generic function with 1 method)"
      ]
     },
     "execution_count": 82,
     "metadata": {},
     "output_type": "execute_result"
    }
   ],
   "source": [
    "function simulate_implicit_euler!(xtraj, N)\n",
    "    for k = 1:(N-1)\n",
    "        xtraj[:,k+1] .= implicit_euler_step(xtraj[:,k])\n",
    "    end\n",
    "end"
   ]
  },
  {
   "cell_type": "code",
   "execution_count": 83,
   "id": "d9a5b652",
   "metadata": {},
   "outputs": [
    {
     "data": {
      "text/plain": [
       "simulate_implicit_mid! (generic function with 1 method)"
      ]
     },
     "execution_count": 83,
     "metadata": {},
     "output_type": "execute_result"
    }
   ],
   "source": [
    "function simulate_implicit_mid!(xtraj, N)\n",
    "    for k = 1:(N-1)\n",
    "        xtraj[:,k+1] .= implicit_midpoint_step(xtraj[:,k])\n",
    "    end\n",
    "end"
   ]
  },
  {
   "cell_type": "code",
   "execution_count": 84,
   "id": "78c55ebc",
   "metadata": {},
   "outputs": [],
   "source": [
    "Tf = 10.0\n",
    "h = 0.1 #10 Hz\n",
    "N = Int(floor(Tf./h + 1))\n",
    "thist = h.*Array(0:(N-1));"
   ]
  },
  {
   "cell_type": "code",
   "execution_count": 85,
   "id": "7d1f831a",
   "metadata": {},
   "outputs": [],
   "source": [
    "x0 = [90*(pi/180); 0.0]\n",
    "xtraj1 = zeros(2,N)\n",
    "xtraj2 = zeros(2,N)\n",
    "xtraj3 = zeros(2,N)\n",
    "xtraj4 = zeros(2,N)\n",
    "xtraj1[:,1] = x0;\n",
    "xtraj2[:,1] = x0;\n",
    "xtraj3[:,1] = x0;\n",
    "xtraj4[:,1] = x0;"
   ]
  },
  {
   "cell_type": "code",
   "execution_count": 86,
   "id": "9cd13c10",
   "metadata": {},
   "outputs": [],
   "source": [
    "simulate_explicit_mid!(xtraj1, N)"
   ]
  },
  {
   "cell_type": "code",
   "execution_count": 87,
   "id": "7dd27c6c",
   "metadata": {},
   "outputs": [],
   "source": [
    "simulate_rk4!(xtraj2, N)"
   ]
  },
  {
   "cell_type": "code",
   "execution_count": 88,
   "id": "93f21c74",
   "metadata": {},
   "outputs": [],
   "source": [
    "simulate_implicit_euler!(xtraj3, N)"
   ]
  },
  {
   "cell_type": "code",
   "execution_count": 89,
   "id": "f81193c3",
   "metadata": {},
   "outputs": [],
   "source": [
    "simulate_implicit_mid!(xtraj4, N)"
   ]
  },
  {
   "cell_type": "code",
   "execution_count": 94,
   "id": "556888d0",
   "metadata": {},
   "outputs": [
    {
     "data": {
      "image/png": "[encoded data removed]",
      "text/plain": [
       "Figure(PyObject <Figure size 640x480 with 1 Axes>)"
      ]
     },
     "metadata": {},
     "output_type": "display_data"
    },
    {
     "data": {
      "text/plain": [
       "PyObject Text(24.000000000000007, 0.5, 'θ (rad)')"
      ]
     },
     "execution_count": 94,
     "metadata": {},
     "output_type": "execute_result"
    }
   ],
   "source": [
    "#plot(thist,xtraj1[1,:])\n",
    "#plot(thist,xtraj2[1,:])\n",
    "#plot(thist,xtraj3[1,:])\n",
    "plot(thist,xtraj4[1,:])\n",
    "xlabel(\"Time (sec)\")\n",
    "ylabel(\"θ (rad)\")\n",
    "#legend([\"Exp Mid\", \"RK4\", \"Imp Euler\", \"Imp Mid\"])"
   ]
  },
  {
   "cell_type": "code",
   "execution_count": null,
   "id": "c5fcd4d0",
   "metadata": {},
   "outputs": [],
   "source": []
  },
  {
   "cell_type": "code",
   "execution_count": null,
   "id": "a1136cd8",
   "metadata": {},
   "outputs": [],
   "source": []
  },
  {
   "cell_type": "code",
   "execution_count": null,
   "id": "f2396dc1",
   "metadata": {},
   "outputs": [],
   "source": []
  },
  {
   "cell_type": "code",
   "execution_count": 73,
   "id": "9d36d1db",
   "metadata": {},
   "outputs": [
    {
     "data": {
      "text/html": [
       "    <div style=\"height: 500px; width: 100%; overflow-x: auto; overflow-y: hidden; resize: both\">\n",
       "    <iframe src=\"http://127.0.0.1:8700\" style=\"width: 100%; height: 100%; border: none\"></iframe>\n",
       "    </div>\n"
      ],
      "text/plain": [
       "MeshCat.DisplayedVisualizer(MeshCat.CoreVisualizer(MeshCat.SceneTrees.SceneNode(nothing, nothing, Dict{String, Vector{UInt8}}(), nothing, Dict{String, MeshCat.SceneTrees.SceneNode}(\"meshcat\" => MeshCat.SceneTrees.SceneNode(nothing, nothing, Dict{String, Vector{UInt8}}(), nothing, Dict{String, MeshCat.SceneTrees.SceneNode}(\"robot\" => MeshCat.SceneTrees.SceneNode(nothing, nothing, Dict{String, Vector{UInt8}}(), nothing, Dict{String, MeshCat.SceneTrees.SceneNode}(\"geom\" => MeshCat.SceneTrees.SceneNode(nothing, nothing, Dict{String, Vector{UInt8}}(), nothing, Dict{String, MeshCat.SceneTrees.SceneNode}(\"rod\" => MeshCat.SceneTrees.SceneNode(UInt8[0x83, 0xa6, 0x6f, 0x62, 0x6a, 0x65, 0x63, 0x74, 0x84, 0xaa  …  0x74, 0x2f, 0x67, 0x65, 0x6f, 0x6d, 0x2f, 0x72, 0x6f, 0x64], nothing, Dict{String, Vector{UInt8}}(), nothing, Dict{String, MeshCat.SceneTrees.SceneNode}()), \"hinge\" => MeshCat.SceneTrees.SceneNode(UInt8[0x83, 0xa6, 0x6f, 0x62, 0x6a, 0x65, 0x63, 0x74, 0x84, 0xaa  …  0x67, 0x65, 0x6f, 0x6d, 0x2f, 0x68, 0x69, 0x6e, 0x67, 0x65], nothing, Dict{String, Vector{UInt8}}(), nothing, Dict{String, MeshCat.SceneTrees.SceneNode}()), \"mass\" => MeshCat.SceneTrees.SceneNode(UInt8[0x83, 0xa6, 0x6f, 0x62, 0x6a, 0x65, 0x63, 0x74, 0x84, 0xaa  …  0x2f, 0x67, 0x65, 0x6f, 0x6d, 0x2f, 0x6d, 0x61, 0x73, 0x73], nothing, Dict{String, Vector{UInt8}}(), nothing, Dict{String, MeshCat.SceneTrees.SceneNode}()))))))))), Set{Any}(), ip\"127.0.0.1\", 8700))"
      ]
     },
     "execution_count": 73,
     "metadata": {},
     "output_type": "execute_result"
    }
   ],
   "source": [
    "using TrajOptPlots\n",
    "using MeshCat\n",
    "using StaticArrays\n",
    "using RobotZoo\n",
    "\n",
    "vis = Visualizer()\n",
    "TrajOptPlots.set_mesh!(vis, RobotZoo.Pendulum())\n",
    "render(vis)"
   ]
  },
  {
   "cell_type": "code",
   "execution_count": 74,
   "id": "7294a47a",
   "metadata": {},
   "outputs": [],
   "source": [
    "X1 = [SVector{2}(x) for x in eachcol(xtraj3)];\n",
    "visualize!(vis, RobotZoo.Pendulum(), thist[end], X1)"
   ]
  },
  {
   "cell_type": "code",
   "execution_count": null,
   "id": "33d5d226",
   "metadata": {},
   "outputs": [],
   "source": []
  }
 ],
 "metadata": {
  "kernelspec": {
   "display_name": "Julia 1.6.0",
   "language": "julia",
   "name": "julia-1.6"
  },
  "language_info": {
   "file_extension": ".jl",
   "mimetype": "application/julia",
   "name": "julia",
   "version": "1.6.2"
  }
 },
 "nbformat": 4,
 "nbformat_minor": 5
}
